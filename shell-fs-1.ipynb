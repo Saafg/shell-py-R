{
 "metadata": {
  "name": "",
  "signature": "sha256:349c961adab2c5ae31cca6738e9baa6dc9d8f7e80f83ee9baaa4473710654070"
 },
 "nbformat": 3,
 "nbformat_minor": 0,
 "worksheets": [
  {
   "cells": [
    {
     "cell_type": "heading",
     "level": 1,
     "metadata": {},
     "source": [
      "BASH Shell ja Failis\u00fcsteem 1"
     ]
    },
    {
     "cell_type": "heading",
     "level": 3,
     "metadata": {},
     "source": [
      "Kuidas seda dokumenti kasutada?"
     ]
    },
    {
     "cell_type": "markdown",
     "metadata": {},
     "source": [
      "Need abimaterjalid on koostatud ipython notebook 'i kasutades. Kood asub hallis kastis ja vastus koodi k\u00e4ivitamisele ilmub kasti alla. Kes on oma arvutisse installeerinud  Python'i ja ipython notbook'i saab neid materjale kasutada interaktiivselt. Teised peavad k\u00e4ske kopeeerima ja k\u00e4ivitama neid n\u00f6. \"mustas aknas\". Tulem k\u00e4skudele s\u00f5ltub suuresti millises masinas te neid k\u00e4ivitate - n\u00e4iteks kodukataloogi failide loetelu s\u00f5ltub mis teil seal on."
     ]
    },
    {
     "cell_type": "heading",
     "level": 3,
     "metadata": {},
     "source": [
      "K\u00e4sud"
     ]
    },
    {
     "cell_type": "markdown",
     "metadata": {},
     "source": [
      "%%bash k\u00e4ib ipython notebook'is alati BASHI k\u00e4skude ette. Mustas aknas ei ole vaja sda \u00f6elda, sest keskond ongi vaikimisi BASH."
     ]
    },
    {
     "cell_type": "markdown",
     "metadata": {},
     "source": [
      "    pwd \n",
      "    ls  \n",
      "    cd "
     ]
    },
    {
     "cell_type": "markdown",
     "metadata": {},
     "source": [
      "K\u00e4sk pwd n\u00e4itab BSOLUUTSET TEED kataloogi, kus te olete."
     ]
    },
    {
     "cell_type": "code",
     "collapsed": false,
     "input": [
      "pwd"
     ],
     "language": "python",
     "metadata": {},
     "outputs": [
      {
       "metadata": {},
       "output_type": "pyout",
       "prompt_number": 5,
       "text": [
        "'/Users/tmargus/git/shell-py-R'"
       ]
      }
     ],
     "prompt_number": 5
    },
    {
     "cell_type": "code",
     "collapsed": false,
     "input": [
      "ls -l"
     ],
     "language": "python",
     "metadata": {},
     "outputs": [
      {
       "output_type": "stream",
       "stream": "stdout",
       "text": [
        "total 400\r\n",
        "-rw-r--r--  1 tmargus  staff  145244 Sep  1 13:21 IRC3_URf90_187.fasta\r\n",
        "-rw-r--r--@ 1 tmargus  staff     265 Sep  1 15:25 README.md\r\n",
        "-rw-r--r--  1 tmargus  staff   39907 Sep  1 13:21 blast_tab_hbb.txt\r\n",
        "-rw-r--r--@ 1 tmargus  staff     228 Sep  1 13:21 hbb_human.fa\r\n",
        "-rw-r--r--@ 1 tmargus  staff    6154 Sep  1 21:36 shell-fs-1.ipynb\r\n"
       ]
      }
     ],
     "prompt_number": 6
    },
    {
     "cell_type": "markdown",
     "metadata": {},
     "source": [
      "    mkdir\n",
      "    rmdir"
     ]
    },
    {
     "cell_type": "heading",
     "level": 4,
     "metadata": {},
     "source": [
      "kataloogi  loomine"
     ]
    },
    {
     "cell_type": "code",
     "collapsed": false,
     "input": [
      "%%bash\n",
      "mkdir doc\n",
      "mkdir prog\n",
      "mkdir tmp\n",
      "ls "
     ],
     "language": "python",
     "metadata": {},
     "outputs": [
      {
       "output_type": "stream",
       "stream": "stdout",
       "text": [
        "IRC3_URf90_187.fasta\n",
        "README.md\n",
        "blast_tab_hbb.txt\n",
        "doc\n",
        "hbb_human.fa\n",
        "prog\n",
        "shell-fs-1.ipynb\n",
        "tmp\n"
       ]
      }
     ],
     "prompt_number": 13
    },
    {
     "cell_type": "heading",
     "level": 4,
     "metadata": {},
     "source": [
      "kataloogi kustutamine"
     ]
    },
    {
     "cell_type": "code",
     "collapsed": false,
     "input": [
      "%%bash\n",
      "rmdir tmp\n",
      "ls"
     ],
     "language": "python",
     "metadata": {},
     "outputs": [
      {
       "output_type": "stream",
       "stream": "stdout",
       "text": [
        "IRC3_URf90_187.fasta\n",
        "README.md\n",
        "blast_tab_hbb.txt\n",
        "doc\n",
        "hbb_human.fa\n",
        "prog\n",
        "shell-fs-1.ipynb\n"
       ]
      }
     ],
     "prompt_number": 15
    },
    {
     "cell_type": "heading",
     "level": 4,
     "metadata": {},
     "source": [
      "kataloogides liikumine"
     ]
    },
    {
     "cell_type": "code",
     "collapsed": false,
     "input": [
      "%%bash\n",
      "cd doc\n",
      "pwd\n",
      "touch newfile.txt\n",
      "ls\n",
      "cd ..\n",
      "pwd\n",
      "cd\n",
      "pwd"
     ],
     "language": "python",
     "metadata": {},
     "outputs": [
      {
       "output_type": "stream",
       "stream": "stdout",
       "text": [
        "/Users/tmargus/git/shell-py-R/doc\n",
        "newfile.txt\n",
        "/Users/tmargus/git/shell-py-R\n",
        "/Users/tmargus\n"
       ]
      }
     ],
     "prompt_number": 22
    },
    {
     "cell_type": "heading",
     "level": 4,
     "metadata": {},
     "source": [
      "Failide kopeerimine, \u00fcmber nimetamine ja \u00fcmber t\u00f5stmine"
     ]
    },
    {
     "cell_type": "markdown",
     "metadata": {},
     "source": [
      "    cp  \n",
      "    mv"
     ]
    },
    {
     "cell_type": "markdown",
     "metadata": {},
     "source": [
      "\u00dcldkasutatav kataloog asub\n",
      "\n",
      "    /state/partition1/bioinf/ \n",
      "    \n",
      "Sinna saab iga\u00fcks faile t\u00f5sta ja ka sealt kopeerida. \n",
      "Kopeerime sealt j\u00e4rjestuste failid kataloogi \n",
      "\n",
      "    kursus"
     ]
    },
    {
     "cell_type": "code",
     "collapsed": false,
     "input": [
      "%%bash \n",
      "mkdir failid\n",
      "ls \n",
      "pwd\n",
      "ls /state/partition1/bioinf/*.fa"
     ],
     "language": "python",
     "metadata": {},
     "outputs": [
      {
       "output_type": "stream",
       "stream": "stdout",
       "text": [
        "IRC3_URf90_187.fasta\n",
        "README.md\n",
        "blast_tab_hbb.txt\n",
        "doc\n",
        "failid\n",
        "kursus\n",
        "prog\n",
        "shell-fs-1.ipynb\n",
        "/Users/tmargus/git/shell-py-R\n",
        "/state/partition1/bioinf/irc3.fa\n",
        "/state/partition1/bioinf/seq1.fa\n",
        "/state/partition1/bioinf/seq3.fa\n",
        "/state/partition1/bioinf/seq4.fa\n"
       ]
      }
     ],
     "prompt_number": 38
    },
    {
     "cell_type": "code",
     "collapsed": false,
     "input": [
      "%%bash\n",
      "pwd\n",
      "cp /state/partition1/bioinf/*.fa  failid/ \n",
      "ls -l  failid/"
     ],
     "language": "python",
     "metadata": {},
     "outputs": [
      {
       "output_type": "stream",
       "stream": "stdout",
       "text": [
        "/Users/tmargus/git/shell-py-R\n",
        "total 104\n",
        "-rw-r--r--@ 1 tmargus  staff  38262 Sep  1 22:47 irc3.fa\n",
        "-rw-r--r--  1 tmargus  staff    107 Sep  1 22:47 seq1.fa\n",
        "-rw-r--r--@ 1 tmargus  staff    348 Sep  1 22:47 seq3.fa\n",
        "-rw-r--r--@ 1 tmargus  staff    111 Sep  1 22:47 seq4.fa\n"
       ]
      }
     ],
     "prompt_number": 39
    },
    {
     "cell_type": "code",
     "collapsed": false,
     "input": [],
     "language": "python",
     "metadata": {},
     "outputs": []
    }
   ],
   "metadata": {}
  }
 ]
}
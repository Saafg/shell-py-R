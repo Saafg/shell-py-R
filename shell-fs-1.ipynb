{
 "metadata": {
  "name": "",
  "signature": "sha256:ffe9078346598f57f70f32071f656793b5f7012dc1d7f422dee4b1b2dd454f47"
 },
 "nbformat": 3,
 "nbformat_minor": 0,
 "worksheets": [
  {
   "cells": [
    {
     "cell_type": "heading",
     "level": 1,
     "metadata": {},
     "source": [
      "UNIX/LINUX failis\u00fcsteemiga seotud k\u00e4sud"
     ]
    },
    {
     "cell_type": "markdown",
     "metadata": {},
     "source": [
      "K\u00e4sud kataloogi sisu vaatamiseks failis\u00fcsteemis ringi liikumiseks ning failis\u00fcsteemi muutmiseks.\n",
      "\n",
      "Sisu kuvamine ja ringi liikumine: \n",
      "    ls, cd, mkdir, rmdir, \n",
      "Tekstifailide kuvamine:\n",
      "    cat, more, less, head, tail\n",
      "Failide kopeerimine ja ringi-nimetamine/t\u00f5stmine:\n",
      "    cp, mv\n",
      "Failide \u00f5iguset muutmine:\n",
      "    chmod, chown (root \u00f5igused)\n",
      "\u00dcmbersuunamised:\n",
      "    >, >>, <, <<, tee\n",
      "Help:\n",
      "    man, info"
     ]
    },
    {
     "cell_type": "markdown",
     "metadata": {
      "slideshow": {
       "slide_type": "slide"
      }
     },
     "source": [
      "Selleks, et ipython notebook oskaks k\u00e4ske interpreteerida nagu BASH'i shell k\u00e4sud t\u00f6\u00f6taksid tuleb \u00f6elda\n",
      "    %%bash"
     ]
    },
    {
     "cell_type": "code",
     "collapsed": false,
     "input": [
      "%%bash\n",
      "ls *.txt"
     ],
     "language": "python",
     "metadata": {},
     "outputs": [
      {
       "output_type": "stream",
       "stream": "stdout",
       "text": [
        "blast_tab_hbb.txt\n"
       ]
      }
     ],
     "prompt_number": 7
    },
    {
     "cell_type": "code",
     "collapsed": false,
     "input": [
      "%%bash\n",
      "mkdir uus\n",
      "ls -l\n",
      "rmdir uus\n",
      "ls -l"
     ],
     "language": "python",
     "metadata": {},
     "outputs": [
      {
       "output_type": "stream",
       "stream": "stdout",
       "text": [
        "total 384\n",
        "-rw-r--r--  1 tmargus  staff  145244 Aug 30 16:45 IRC3_URf90_187.fasta\n",
        "-rw-r--r--  1 tmargus  staff   39907 Aug 30 16:51 blast_tab_hbb.txt\n",
        "-rw-r--r--@ 1 tmargus  staff     228 Aug 30 16:46 hbb_human.fa\n",
        "-rw-r--r--  1 tmargus  staff    2323 Aug 30 18:01 shell-fs-1.ipynb\n",
        "drwxr-xr-x  2 tmargus  staff      68 Aug 30 18:02 uus\n",
        "total 384\n",
        "-rw-r--r--  1 tmargus  staff  145244 Aug 30 16:45 IRC3_URf90_187.fasta\n",
        "-rw-r--r--  1 tmargus  staff   39907 Aug 30 16:51 blast_tab_hbb.txt\n",
        "-rw-r--r--@ 1 tmargus  staff     228 Aug 30 16:46 hbb_human.fa\n",
        "-rw-r--r--  1 tmargus  staff    2323 Aug 30 18:01 shell-fs-1.ipynb\n"
       ]
      }
     ],
     "prompt_number": 26
    },
    {
     "cell_type": "code",
     "collapsed": false,
     "input": [
      "%%bash\n",
      "head blast_tab_hbb.txt"
     ],
     "language": "python",
     "metadata": {},
     "outputs": [
      {
       "output_type": "stream",
       "stream": "stdout",
       "text": [
        "# BLASTP 2.2.29+\n",
        "# Query: sp|P68871|HBB_HUMAN Hemoglobin subunit beta OS=Homo sapiens GN=HBB PE=1 SV=2\n",
        "# Database: uniprot_sprot\n",
        "# Fields: query id, subject id, % identity, alignment length, mismatches, gap opens, q. start, q. end, s. start, s. end, evalue, bit score\n",
        "# 500 hits found\n",
        "sp|P68871|HBB_HUMAN\tsp|P68873|HBB_PANTR\t100.00\t147\t0\t0\t1\t147\t1\t147\t3e-104\t  301\n",
        "sp|P68871|HBB_HUMAN\tsp|P68872|HBB_PANPA\t100.00\t147\t0\t0\t1\t147\t1\t147\t3e-104\t  301\n",
        "sp|P68871|HBB_HUMAN\tsp|P68871|HBB_HUMAN\t100.00\t147\t0\t0\t1\t147\t1\t147\t3e-104\t  301\n",
        "sp|P68871|HBB_HUMAN\tsp|P02024|HBB_GORGO\t99.32\t147\t1\t0\t1\t147\t1\t147\t1e-103\t  300\n",
        "sp|P68871|HBB_HUMAN\tsp|P02025|HBB_HYLLA\t98.63\t146\t2\t0\t2\t147\t1\t146\t2e-101\t  294\n"
       ]
      }
     ],
     "prompt_number": 28
    },
    {
     "cell_type": "code",
     "collapsed": false,
     "input": [
      "ls "
     ],
     "language": "python",
     "metadata": {},
     "outputs": [
      {
       "output_type": "stream",
       "stream": "stdout",
       "text": [
        "IRC3_URf90_187.fasta  blast_tab_hbb.txt     hbb_human.fa          shell-fs-1.ipynb\r\n"
       ]
      }
     ],
     "prompt_number": 1
    }
   ],
   "metadata": {}
  }
 ]
}
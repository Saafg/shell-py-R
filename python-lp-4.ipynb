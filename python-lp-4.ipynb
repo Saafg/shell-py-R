{
 "metadata": {
  "name": "",
  "signature": "sha256:5e56eb8cc833ed262151110f44d682b2f1cf3a71c3fc80aa4076947e0aa4cb57"
 },
 "nbformat": 3,
 "nbformat_minor": 0,
 "worksheets": [
  {
   "cells": [
    {
     "cell_type": "heading",
     "level": 2,
     "metadata": {},
     "source": [
      "Tehted string'ga "
     ]
    },
    {
     "cell_type": "code",
     "collapsed": false,
     "input": [
      "'TTG' in 'ATTGTTGTTGCCA'"
     ],
     "language": "python",
     "metadata": {},
     "outputs": [
      {
       "metadata": {},
       "output_type": "pyout",
       "prompt_number": 2,
       "text": [
        "True"
       ]
      }
     ],
     "prompt_number": 2
    },
    {
     "cell_type": "code",
     "collapsed": false,
     "input": [
      "'TGG' in 'ATTGTTGTTGCCA'"
     ],
     "language": "python",
     "metadata": {},
     "outputs": [
      {
       "metadata": {},
       "output_type": "pyout",
       "prompt_number": 3,
       "text": [
        "False"
       ]
      }
     ],
     "prompt_number": 3
    },
    {
     "cell_type": "code",
     "collapsed": false,
     "input": [
      "'@0' in 'AATG\"/9@0$0+14'"
     ],
     "language": "python",
     "metadata": {},
     "outputs": [
      {
       "metadata": {},
       "output_type": "pyout",
       "prompt_number": 4,
       "text": [
        "True"
       ]
      }
     ],
     "prompt_number": 4
    },
    {
     "cell_type": "code",
     "collapsed": false,
     "input": [
      "'@0' not in 'AATG\"/9@0$0+14'"
     ],
     "language": "python",
     "metadata": {},
     "outputs": [
      {
       "metadata": {},
       "output_type": "pyout",
       "prompt_number": 6,
       "text": [
        "False"
       ]
      }
     ],
     "prompt_number": 6
    },
    {
     "cell_type": "code",
     "collapsed": false,
     "input": [
      "'aaa' + 'ccc' + 't'*3 + 'g'*4 "
     ],
     "language": "python",
     "metadata": {},
     "outputs": [
      {
       "metadata": {},
       "output_type": "pyout",
       "prompt_number": 5,
       "text": [
        "'aaaccctttgggg'"
       ]
      }
     ],
     "prompt_number": 5
    },
    {
     "cell_type": "code",
     "collapsed": false,
     "input": [
      "'GCaG' * 8"
     ],
     "language": "python",
     "metadata": {},
     "outputs": [
      {
       "metadata": {},
       "output_type": "pyout",
       "prompt_number": 9,
       "text": [
        "'GCaGGCaGGCaGGCaGGCaGGCaGGCaGGCaG'"
       ]
      }
     ],
     "prompt_number": 9
    },
    {
     "cell_type": "heading",
     "level": 3,
     "metadata": {},
     "source": [
      "Indeks'i kasutamine elementide v\u00e4lja noppimiseks, slaicing ja slaicing sammuga."
     ]
    },
    {
     "cell_type": "code",
     "collapsed": false,
     "input": [
      "'MNKMDLVA'[2] "
     ],
     "language": "python",
     "metadata": {},
     "outputs": [
      {
       "metadata": {},
       "output_type": "pyout",
       "prompt_number": 7,
       "text": [
        "'K'"
       ]
      }
     ],
     "prompt_number": 7
    },
    {
     "cell_type": "code",
     "collapsed": false,
     "input": [
      "'MNKMDLVA'[-1] "
     ],
     "language": "python",
     "metadata": {},
     "outputs": [
      {
       "metadata": {},
       "output_type": "pyout",
       "prompt_number": 8,
       "text": [
        "'A'"
       ]
      }
     ],
     "prompt_number": 8
    },
    {
     "cell_type": "code",
     "collapsed": false,
     "input": [
      "'MNKMDLVA'[3:6] "
     ],
     "language": "python",
     "metadata": {},
     "outputs": [
      {
       "metadata": {},
       "output_type": "pyout",
       "prompt_number": 9,
       "text": [
        "'MDL'"
       ]
      }
     ],
     "prompt_number": 9
    },
    {
     "cell_type": "code",
     "collapsed": false,
     "input": [
      "'MNKMDLVA'[6:-1] "
     ],
     "language": "python",
     "metadata": {},
     "outputs": [
      {
       "metadata": {},
       "output_type": "pyout",
       "prompt_number": 10,
       "text": [
        "'V'"
       ]
      }
     ],
     "prompt_number": 10
    },
    {
     "cell_type": "code",
     "collapsed": false,
     "input": [
      "'MNKMDLVA'[3:] "
     ],
     "language": "python",
     "metadata": {},
     "outputs": [
      {
       "metadata": {},
       "output_type": "pyout",
       "prompt_number": 11,
       "text": [
        "'MDLVA'"
       ]
      }
     ],
     "prompt_number": 11
    },
    {
     "cell_type": "markdown",
     "metadata": {},
     "source": [
      "NB! Pane t\u00e4hele, mille poolest erinevad In[10] ja In[11]"
     ]
    },
    {
     "cell_type": "code",
     "collapsed": false,
     "input": [
      "'MNKMDLVAD'[2:9:3] "
     ],
     "language": "python",
     "metadata": {},
     "outputs": [
      {
       "metadata": {},
       "output_type": "pyout",
       "prompt_number": 12,
       "text": [
        "'KLD'"
       ]
      }
     ],
     "prompt_number": 12
    },
    {
     "cell_type": "markdown",
     "metadata": {},
     "source": [
      "Nopib  j\u00e4rjestusest v\u00e4lja iga koodoni esimese positsiooni"
     ]
    },
    {
     "cell_type": "code",
     "collapsed": false,
     "input": [
      "'ACATTTGCTTCTGACACAACTGTGTTCACTAGCAACCTCAAACAGACAC'[0::3]"
     ],
     "language": "python",
     "metadata": {},
     "outputs": [
      {
       "metadata": {},
       "output_type": "pyout",
       "prompt_number": 13,
       "text": [
        "'ATGTGAAGTAAACACAC'"
       ]
      }
     ],
     "prompt_number": 13
    },
    {
     "cell_type": "markdown",
     "metadata": {},
     "source": [
      "P\u00f6\u00f6rab j\u00e4rjestuse ringi"
     ]
    },
    {
     "cell_type": "code",
     "collapsed": false,
     "input": [
      "'ACATTTGCTTCTGACACAACTGTGTTCACTAGCAACCTCAAACAGACAC'[::-1]"
     ],
     "language": "python",
     "metadata": {},
     "outputs": [
      {
       "metadata": {},
       "output_type": "pyout",
       "prompt_number": 14,
       "text": [
        "'CACAGACAAACTCCAACGATCACTTGTGTCAACACAGTCTTCGTTTACA'"
       ]
      }
     ],
     "prompt_number": 14
    },
    {
     "cell_type": "heading",
     "level": 3,
     "metadata": {},
     "source": [
      "Method call -  count, find ,... "
     ]
    },
    {
     "cell_type": "markdown",
     "metadata": {},
     "source": [
      "Stringi-meetodite \u00fcldine kuju **'STRing'.method[*args*]** ; Igale endet\u00fc\u00fcbile on oma komplekt meetodeid. String-meetodite loetelu k\u00fcsimine vt. allpool."
     ]
    },
    {
     "cell_type": "code",
     "collapsed": false,
     "input": [
      "'AAAAATCCCGAGGCGGCTATATAGGGCTCCGGAGGCGTAATATA'.count('TA') "
     ],
     "language": "python",
     "metadata": {},
     "outputs": [
      {
       "metadata": {},
       "output_type": "pyout",
       "prompt_number": 16,
       "text": [
        "6"
       ]
      }
     ],
     "prompt_number": 16
    },
    {
     "cell_type": "code",
     "collapsed": false,
     "input": [
      "'AAAAATCCCGAGGCGGCTATATAGGGCTCCGGAGGCGTAATATA'.find('TCCGGA') "
     ],
     "language": "python",
     "metadata": {},
     "outputs": [
      {
       "metadata": {},
       "output_type": "pyout",
       "prompt_number": 15,
       "text": [
        "27"
       ]
      }
     ],
     "prompt_number": 15
    },
    {
     "cell_type": "code",
     "collapsed": false,
     "input": [
      "'AAAAATCCCGAGGCGGCTATATAGGGCTCCGGAGGCGTAATATA'.find('TCCGGA', 29) "
     ],
     "language": "python",
     "metadata": {},
     "outputs": [
      {
       "metadata": {},
       "output_type": "pyout",
       "prompt_number": 17,
       "text": [
        "-1"
       ]
      }
     ],
     "prompt_number": 17
    },
    {
     "cell_type": "code",
     "collapsed": false,
     "input": [
      "dna='AAAAATCCCGAGGCGGCTATATAGGGCTCCGGAGGCGTAATATA'\n",
      "dna"
     ],
     "language": "python",
     "metadata": {},
     "outputs": [
      {
       "metadata": {},
       "output_type": "pyout",
       "prompt_number": 11,
       "text": [
        "'AAAAATCCCGAGGCGGCTATATAGGGCTCCGGAGGCGTAATATA'"
       ]
      }
     ],
     "prompt_number": 11
    },
    {
     "cell_type": "code",
     "collapsed": false,
     "input": [
      "dna.startswith('AA')"
     ],
     "language": "python",
     "metadata": {},
     "outputs": [
      {
       "metadata": {},
       "output_type": "pyout",
       "prompt_number": 13,
       "text": [
        "True"
       ]
      }
     ],
     "prompt_number": 13
    },
    {
     "cell_type": "code",
     "collapsed": false,
     "input": [
      "dna.endswith('AA')"
     ],
     "language": "python",
     "metadata": {},
     "outputs": [
      {
       "metadata": {},
       "output_type": "pyout",
       "prompt_number": 14,
       "text": [
        "False"
       ]
      }
     ],
     "prompt_number": 14
    },
    {
     "cell_type": "markdown",
     "metadata": {},
     "source": [
      "GC osakaalu arvutamine nukleiinhappes.  "
     ]
    },
    {
     "cell_type": "code",
     "collapsed": false,
     "input": [
      "(dna.count('C') + dna.count('G'))/len(dna)"
     ],
     "language": "python",
     "metadata": {},
     "outputs": [
      {
       "metadata": {},
       "output_type": "pyout",
       "prompt_number": 21,
       "text": [
        "0.5"
       ]
      }
     ],
     "prompt_number": 21
    },
    {
     "cell_type": "markdown",
     "metadata": {},
     "source": [
      "*** Warnings python 2!!!*** Juhul kui m\u00f5lemalpool murrujuuont on t\u00e4isarvud ja te saate tulemuseks 0 (integer). Kontrollige kas, te kasutate Python 2.5 & 2.7 (Python 2). Kui jah siis  lisage veel \u00fcks rida koodi enne jagamistehet."
     ]
    },
    {
     "cell_type": "code",
     "collapsed": false,
     "input": [
      "from __future__ import division"
     ],
     "language": "python",
     "metadata": {},
     "outputs": [],
     "prompt_number": 15
    },
    {
     "cell_type": "markdown",
     "metadata": {},
     "source": [
      "**Stringi meetodid** Python 3.4'jas saate k\u00e4suga **dir(str)**.  Loetelus algavad ja l\u00f5ppevad  **__** peidetud meetodid, mis on reserveeritud python'i enda jakos ning teised on kasutatavad sarnaselt \u00fclaltoodud n\u00e4idetele nagu: **\".count\", \".find\", \".startswiht\"**.\n"
     ]
    },
    {
     "cell_type": "code",
     "collapsed": false,
     "input": [
      "dir(str)"
     ],
     "language": "python",
     "metadata": {},
     "outputs": [
      {
       "metadata": {},
       "output_type": "pyout",
       "prompt_number": 3,
       "text": [
        "['__add__',\n",
        " '__class__',\n",
        " '__contains__',\n",
        " '__delattr__',\n",
        " '__dir__',\n",
        " '__doc__',\n",
        " '__eq__',\n",
        " '__format__',\n",
        " '__ge__',\n",
        " '__getattribute__',\n",
        " '__getitem__',\n",
        " '__getnewargs__',\n",
        " '__gt__',\n",
        " '__hash__',\n",
        " '__init__',\n",
        " '__iter__',\n",
        " '__le__',\n",
        " '__len__',\n",
        " '__lt__',\n",
        " '__mod__',\n",
        " '__mul__',\n",
        " '__ne__',\n",
        " '__new__',\n",
        " '__reduce__',\n",
        " '__reduce_ex__',\n",
        " '__repr__',\n",
        " '__rmod__',\n",
        " '__rmul__',\n",
        " '__setattr__',\n",
        " '__sizeof__',\n",
        " '__str__',\n",
        " '__subclasshook__',\n",
        " 'capitalize',\n",
        " 'casefold',\n",
        " 'center',\n",
        " 'count',\n",
        " 'encode',\n",
        " 'endswith',\n",
        " 'expandtabs',\n",
        " 'find',\n",
        " 'format',\n",
        " 'format_map',\n",
        " 'index',\n",
        " 'isalnum',\n",
        " 'isalpha',\n",
        " 'isdecimal',\n",
        " 'isdigit',\n",
        " 'isidentifier',\n",
        " 'islower',\n",
        " 'isnumeric',\n",
        " 'isprintable',\n",
        " 'isspace',\n",
        " 'istitle',\n",
        " 'isupper',\n",
        " 'join',\n",
        " 'ljust',\n",
        " 'lower',\n",
        " 'lstrip',\n",
        " 'maketrans',\n",
        " 'partition',\n",
        " 'replace',\n",
        " 'rfind',\n",
        " 'rindex',\n",
        " 'rjust',\n",
        " 'rpartition',\n",
        " 'rsplit',\n",
        " 'rstrip',\n",
        " 'split',\n",
        " 'splitlines',\n",
        " 'startswith',\n",
        " 'strip',\n",
        " 'swapcase',\n",
        " 'title',\n",
        " 'translate',\n",
        " 'upper',\n",
        " 'zfill']"
       ]
      }
     ],
     "prompt_number": 3
    },
    {
     "cell_type": "heading",
     "level": 3,
     "metadata": {},
     "source": [
      "Built-in functions"
     ]
    },
    {
     "cell_type": "markdown",
     "metadata": {},
     "source": [
      "Funktsiooni \u00fcldine kuju **funcion()** :: \n",
      "M\u00f5ned n\u00e4ited:\n",
      "len() - length kus ('sulgude vahele l\u00e4heb string')\n",
      "abs()\n",
      "min()\n",
      "max()\n",
      "str()\n",
      "int()\n",
      "float()\n",
      "help()  or help(x)\n",
      "\n",
      "T\u00e4ielik funktsioonide loetelu  https://docs.python.org/3/library/functions.html"
     ]
    },
    {
     "cell_type": "heading",
     "level": 3,
     "metadata": {},
     "source": [
      "Funktsiooni defineerimine"
     ]
    },
    {
     "cell_type": "code",
     "collapsed": false,
     "input": [
      "def recognition_site(dna, recognition_seq):\n",
      "    return dna.find(recognition_seq)"
     ],
     "language": "python",
     "metadata": {},
     "outputs": [],
     "prompt_number": 25
    },
    {
     "cell_type": "code",
     "collapsed": false,
     "input": [
      "recognition_site(dna, 'TCCGG')"
     ],
     "language": "python",
     "metadata": {},
     "outputs": [
      {
       "metadata": {},
       "output_type": "pyout",
       "prompt_number": 26,
       "text": [
        "27"
       ]
      }
     ],
     "prompt_number": 26
    },
    {
     "cell_type": "code",
     "collapsed": false,
     "input": [
      "def gc_sisaldus(dna_seq):\n",
      "    \"\"\" DNA GC sisalduse arvutamine. Pole t\u00f5stutundlike\n",
      "    sobib nii T,t; C,c; G,g voi A,a. \"\"\"\n",
      "    dna = dna_seq.upper()\n",
      "    return (dna.count('C') + dna.count('G'))/len(dna)"
     ],
     "language": "python",
     "metadata": {},
     "outputs": [],
     "prompt_number": 31
    },
    {
     "cell_type": "markdown",
     "metadata": {},
     "source": [
      "** Warnings!!! Python 2** "
     ]
    },
    {
     "cell_type": "code",
     "collapsed": false,
     "input": [
      "# Python 2 only \n",
      "from __future__ import division"
     ],
     "language": "python",
     "metadata": {},
     "outputs": [],
     "prompt_number": 7
    },
    {
     "cell_type": "code",
     "collapsed": false,
     "input": [
      "def gc_sisaldus(dna_seq):\n",
      "    \"\"\" DNA GC sisalduse arvutamine. Pole t\u00f5stutundlike\n",
      "    sobib nii T,t; C,c; G,g voi A,a. \"\"\"\n",
      "    dna = dna_seq.upper()\n",
      "    # muuta len(dna) tyypi float(len(dna))\n",
      "    return (dna.count('C') + dna.count('G'))/float(len(dna))"
     ],
     "language": "python",
     "metadata": {},
     "outputs": [],
     "prompt_number": 31
    },
    {
     "cell_type": "code",
     "collapsed": false,
     "input": [
      "gc_sisaldus(dna)"
     ],
     "language": "python",
     "metadata": {},
     "outputs": [
      {
       "metadata": {},
       "output_type": "pyout",
       "prompt_number": 32,
       "text": [
        "0.5"
       ]
      }
     ],
     "prompt_number": 32
    },
    {
     "cell_type": "code",
     "collapsed": false,
     "input": [
      "liba_dna='SIIRaattatatagcgagctacg'\n",
      "liba_dna"
     ],
     "language": "python",
     "metadata": {},
     "outputs": [
      {
       "metadata": {},
       "output_type": "pyout",
       "prompt_number": 35,
       "text": [
        "'SIIRaattatatagcgagctacg'"
       ]
      }
     ],
     "prompt_number": 35
    },
    {
     "cell_type": "code",
     "collapsed": false,
     "input": [
      "gc_sisaldus(liba_dna)"
     ],
     "language": "python",
     "metadata": {},
     "outputs": [
      {
       "metadata": {},
       "output_type": "pyout",
       "prompt_number": 36,
       "text": [
        "0.30434782608695654"
       ]
      }
     ],
     "prompt_number": 36
    },
    {
     "cell_type": "heading",
     "level": 4,
     "metadata": {},
     "source": [
      "Function dna_check"
     ]
    },
    {
     "cell_type": "code",
     "collapsed": false,
     "input": [
      "def dna_check(dna_seq):\n",
      "    \"\"\" Function for checking DNA sequence composition\"\"\"\n",
      "    seq = dna_seq.upper()\n",
      "    return len(seq) == (seq.count('A') + seq.count('G') + seq.count('T') + seq.count('C'))"
     ],
     "language": "python",
     "metadata": {},
     "outputs": [],
     "prompt_number": 39
    },
    {
     "cell_type": "code",
     "collapsed": false,
     "input": [
      "dna_check(liba_dna)"
     ],
     "language": "python",
     "metadata": {},
     "outputs": [
      {
       "metadata": {},
       "output_type": "pyout",
       "prompt_number": 41,
       "text": [
        "False"
       ]
      }
     ],
     "prompt_number": 41
    },
    {
     "cell_type": "heading",
     "level": 4,
     "metadata": {},
     "source": [
      "Assertion"
     ]
    },
    {
     "cell_type": "markdown",
     "metadata": {},
     "source": [
      "**assert** k\u00e4su kasutamine kontrollimiaks, kas argumendid vastavad eeldustele. Kui assert tingimus annab t\u00f5ev\u00e4\u00e4rtuse **True** siis minnakse edasi,  **False** puhul annab **assert** veateate. Veatedet saab spetsifitseerida lisades **assert** k\u00e4sule *s\u00f5numi* pele koma jutum\u00e4rkide vahele.  "
     ]
    },
    {
     "cell_type": "code",
     "collapsed": false,
     "input": [
      "assert dna_check('atatgcgtacgacg'),'jarjestus sisaldab ebastandardseid symboleid'"
     ],
     "language": "python",
     "metadata": {},
     "outputs": [],
     "prompt_number": 62
    },
    {
     "cell_type": "code",
     "collapsed": false,
     "input": [
      "assert 2 < 1, 'Kaks ei ole \u00fchest v\u00e4iksem'"
     ],
     "language": "python",
     "metadata": {},
     "outputs": [
      {
       "ename": "AssertionError",
       "evalue": "Kaks ei ole \u00fchest v\u00e4iksem",
       "output_type": "pyerr",
       "traceback": [
        "\u001b[0;31m---------------------------------------------------------------------------\u001b[0m\n\u001b[0;31mAssertionError\u001b[0m                            Traceback (most recent call last)",
        "\u001b[0;32m<ipython-input-61-a273e8881964>\u001b[0m in \u001b[0;36m<module>\u001b[0;34m()\u001b[0m\n\u001b[0;32m----> 1\u001b[0;31m \u001b[0;32massert\u001b[0m \u001b[0;36m2\u001b[0m \u001b[0;34m<\u001b[0m \u001b[0;36m1\u001b[0m\u001b[0;34m,\u001b[0m \u001b[0;34m'Kaks ei ole \u00fchest v\u00e4iksem'\u001b[0m\u001b[0;34m\u001b[0m\u001b[0m\n\u001b[0m",
        "\u001b[0;31mAssertionError\u001b[0m: Kaks ei ole \u00fchest v\u00e4iksem"
       ]
      }
     ],
     "prompt_number": 61
    },
    {
     "cell_type": "code",
     "collapsed": false,
     "input": [
      "def gc_sisaldus_2(dna_seq):\n",
      "    \"\"\" DNA GC sisalduse arvutamine. Pole t\u00f5stutundlike\n",
      "    sobib nii T,t; C,c; G,g voi A,a. \"\"\"\n",
      "    assert dna_check(dna_seq),'j\u00e4rjestus sisaldab ebastandardseid s\u00fcmboleid'\n",
      "    dna = dna_seq.upper()\n",
      "    return (dna.count('C') + dna.count('G'))/len(dna)"
     ],
     "language": "python",
     "metadata": {},
     "outputs": [],
     "prompt_number": 54
    },
    {
     "cell_type": "code",
     "collapsed": false,
     "input": [
      "gc_sisaldus_2('attgagctacgtcgagatggcgatcgtSTR')"
     ],
     "language": "python",
     "metadata": {},
     "outputs": [
      {
       "ename": "AssertionError",
       "evalue": "j\u00e4rjestus sisaldab ebastandardseid s\u00fcmboleid",
       "output_type": "pyerr",
       "traceback": [
        "\u001b[0;31m---------------------------------------------------------------------------\u001b[0m\n\u001b[0;31mAssertionError\u001b[0m                            Traceback (most recent call last)",
        "\u001b[0;32m<ipython-input-64-04af372cde47>\u001b[0m in \u001b[0;36m<module>\u001b[0;34m()\u001b[0m\n\u001b[0;32m----> 1\u001b[0;31m \u001b[0mgc_sisaldus_2\u001b[0m\u001b[0;34m(\u001b[0m\u001b[0;34m'attgagctacgtcgagatggcgatcgtSTR'\u001b[0m\u001b[0;34m)\u001b[0m\u001b[0;34m\u001b[0m\u001b[0m\n\u001b[0m",
        "\u001b[0;32m<ipython-input-54-43ba54a0f2e5>\u001b[0m in \u001b[0;36mgc_sisaldus_2\u001b[0;34m(dna_seq)\u001b[0m\n\u001b[1;32m      2\u001b[0m     \"\"\" DNA GC sisalduse arvutamine. Pole t\u00f5stutundlike\n\u001b[1;32m      3\u001b[0m     sobib nii T,t; C,c; G,g voi A,a. \"\"\"\n\u001b[0;32m----> 4\u001b[0;31m     \u001b[0;32massert\u001b[0m \u001b[0mdna_check\u001b[0m\u001b[0;34m(\u001b[0m\u001b[0mdna_seq\u001b[0m\u001b[0;34m)\u001b[0m\u001b[0;34m,\u001b[0m\u001b[0;34m'j\u00e4rjestus sisaldab ebastandardseid s\u00fcmboleid'\u001b[0m\u001b[0;34m\u001b[0m\u001b[0m\n\u001b[0m\u001b[1;32m      5\u001b[0m     \u001b[0mdna\u001b[0m \u001b[0;34m=\u001b[0m \u001b[0mdna_seq\u001b[0m\u001b[0;34m.\u001b[0m\u001b[0mupper\u001b[0m\u001b[0;34m(\u001b[0m\u001b[0;34m)\u001b[0m\u001b[0;34m\u001b[0m\u001b[0m\n\u001b[1;32m      6\u001b[0m     \u001b[0;32mreturn\u001b[0m \u001b[0;34m(\u001b[0m\u001b[0mdna\u001b[0m\u001b[0;34m.\u001b[0m\u001b[0mcount\u001b[0m\u001b[0;34m(\u001b[0m\u001b[0;34m'C'\u001b[0m\u001b[0;34m)\u001b[0m \u001b[0;34m+\u001b[0m \u001b[0mdna\u001b[0m\u001b[0;34m.\u001b[0m\u001b[0mcount\u001b[0m\u001b[0;34m(\u001b[0m\u001b[0;34m'G'\u001b[0m\u001b[0;34m)\u001b[0m\u001b[0;34m)\u001b[0m\u001b[0;34m/\u001b[0m\u001b[0mlen\u001b[0m\u001b[0;34m(\u001b[0m\u001b[0mdna\u001b[0m\u001b[0;34m)\u001b[0m\u001b[0;34m\u001b[0m\u001b[0m\n",
        "\u001b[0;31mAssertionError\u001b[0m: j\u00e4rjestus sisaldab ebastandardseid s\u00fcmboleid"
       ]
      }
     ],
     "prompt_number": 64
    }
   ],
   "metadata": {}
  }
 ]
}
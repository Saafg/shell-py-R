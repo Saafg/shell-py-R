{
 "metadata": {
  "name": "",
  "signature": "sha256:c983e41e9fbb1bb4aaafcbf80f6f04c89ce2263a92172c6953c79cc956f07d31"
 },
 "nbformat": 3,
 "nbformat_minor": 0,
 "worksheets": [
  {
   "cells": [
    {
     "cell_type": "heading",
     "level": 3,
     "metadata": {},
     "source": [
      "Files"
     ]
    },
    {
     "cell_type": "code",
     "collapsed": false,
     "input": [
      "# Open a file\n",
      "FILE = open(\"proov.txt\", \"wt\")\n",
      "print (\"Name of the file: \", FILE.name)\n",
      "print (\"Closed or not : \", FILE.closed)\n",
      "print (\"Opening mode : \", FILE.mode)\n",
      "\n",
      "\n",
      "# close file\n",
      "FILE.close()"
     ],
     "language": "python",
     "metadata": {},
     "outputs": [
      {
       "output_type": "stream",
       "stream": "stdout",
       "text": [
        "Name of the file:  proov.txt\n",
        "Closed or not :  False\n",
        "Opening mode :  wt\n"
       ]
      }
     ],
     "prompt_number": 9
    },
    {
     "cell_type": "code",
     "collapsed": false,
     "input": [
      "# wrtie to file\n",
      "FILE = open(\"proov.txt\", \"wt\")\n",
      "FILE.write( \"Python is a great language!!\\n\");\n",
      "FILE.close()"
     ],
     "language": "python",
     "metadata": {},
     "outputs": [],
     "prompt_number": 3
    },
    {
     "cell_type": "heading",
     "level": 3,
     "metadata": {},
     "source": [
      "**`with`** kasutamine faili avamiseks ja automaatseks sulgemiseks"
     ]
    },
    {
     "cell_type": "markdown",
     "metadata": {},
     "source": [
      "**`with open(filename, arg) as file:\n",
      "    do something with a file` **"
     ]
    },
    {
     "cell_type": "code",
     "collapsed": false,
     "input": [],
     "language": "python",
     "metadata": {},
     "outputs": []
    },
    {
     "cell_type": "heading",
     "level": 3,
     "metadata": {},
     "source": [
      "Luubid - While"
     ]
    },
    {
     "cell_type": "heading",
     "level": 4,
     "metadata": {},
     "source": [
      "While luup ja failist lugemine"
     ]
    },
    {
     "cell_type": "markdown",
     "metadata": {},
     "source": [
      "**`.readline() & .readlines()`**  \n",
      "... mis neil vahet on?"
     ]
    },
    {
     "cell_type": "code",
     "collapsed": false,
     "input": [
      "with open('seq1.fa') as file:\n",
      "    line = file.readline()\n",
      "    while line:\n",
      "        print (line)\n",
      "        line = file.readline()"
     ],
     "language": "python",
     "metadata": {},
     "outputs": [
      {
       "output_type": "stream",
       "stream": "stdout",
       "text": [
        ">gi|1114567|gb|NC_00245\n",
        "\n",
        "ATATAGGCGCTTGGTGCGCGGCGGGCGC\n",
        "\n",
        "GGCTAGCAGCACCTTTAGTAGCTTTCAT\n",
        "\n",
        "CATCTATCATCTATCATCTACTCA\n",
        "\n"
       ]
      }
     ],
     "prompt_number": 4
    },
    {
     "cell_type": "code",
     "collapsed": false,
     "input": [
      "with open('seq1.fa') as file:\n",
      "    line = file.readlines()\n",
      "    while line:\n",
      "        print (line)\n",
      "        line = file.readlines()"
     ],
     "language": "python",
     "metadata": {},
     "outputs": [
      {
       "output_type": "stream",
       "stream": "stdout",
       "text": [
        "['>gi|1114567|gb|NC_00245\\n', 'ATATAGGCGCTTGGTGCGCGGCGGGCGC\\n', 'GGCTAGCAGCACCTTTAGTAGCTTTCAT\\n', 'CATCTATCATCTATCATCTACTCA\\n']\n"
       ]
      }
     ],
     "prompt_number": 5
    },
    {
     "cell_type": "code",
     "collapsed": false,
     "input": [
      "with open('seq1.fa') as file:\n",
      "    line = file.readline()\n",
      "    while line:\n",
      "        print (line[:-1]) # line[:-1]  -1 viimane s\u00fcmbol j\u00e4\u00e4b v\u00e4lja e. reavahetust ei v\u00f5eta kaasa.\n",
      "        line = file.readline()"
     ],
     "language": "python",
     "metadata": {},
     "outputs": [
      {
       "output_type": "stream",
       "stream": "stdout",
       "text": [
        ">gi|1114567|gb|NC_00245\n",
        "ATATAGGCGCTTGGTGCGCGGCGGGCGC\n",
        "GGCTAGCAGCACCTTTAGTAGCTTTCAT\n",
        "CATCTATCATCTATCATCTACTCA\n"
       ]
      }
     ],
     "prompt_number": 3
    }
   ],
   "metadata": {}
  }
 ]
}
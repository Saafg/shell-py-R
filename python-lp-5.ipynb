{
 "metadata": {
  "name": "",
  "signature": "sha256:5adc514a6897686e0f4c86ade0ad2c7f5c00367fad193a492d65d03df935735c"
 },
 "nbformat": 3,
 "nbformat_minor": 0,
 "worksheets": [
  {
   "cells": [
    {
     "cell_type": "heading",
     "level": 1,
     "metadata": {},
     "source": [
      "Andmestruktuurid"
     ]
    },
    {
     "cell_type": "heading",
     "level": 3,
     "metadata": {},
     "source": [
      "Sets - hulgad"
     ]
    },
    {
     "cell_type": "code",
     "collapsed": false,
     "input": [
      "dnt_set = {'A', 'G', 'T', 'C' }\n",
      "rnt_set = {'A', 'G', 'U', 'C' }\n",
      "nt2_set = {'A', 'T'}"
     ],
     "language": "python",
     "metadata": {},
     "outputs": [],
     "prompt_number": 3
    },
    {
     "cell_type": "code",
     "collapsed": false,
     "input": [
      "nt2_set < dnt_set"
     ],
     "language": "python",
     "metadata": {},
     "outputs": [
      {
       "metadata": {},
       "output_type": "pyout",
       "prompt_number": 4,
       "text": [
        "True"
       ]
      }
     ],
     "prompt_number": 4
    },
    {
     "cell_type": "code",
     "collapsed": false,
     "input": [
      "nt2_set == dnt_set"
     ],
     "language": "python",
     "metadata": {},
     "outputs": [
      {
       "metadata": {},
       "output_type": "pyout",
       "prompt_number": 5,
       "text": [
        "False"
       ]
      }
     ],
     "prompt_number": 5
    },
    {
     "cell_type": "code",
     "collapsed": false,
     "input": [
      "rnt_set | dnt_set"
     ],
     "language": "python",
     "metadata": {},
     "outputs": [
      {
       "metadata": {},
       "output_type": "pyout",
       "prompt_number": 6,
       "text": [
        "{'A', 'C', 'G', 'T', 'U'}"
       ]
      }
     ],
     "prompt_number": 6
    },
    {
     "cell_type": "code",
     "collapsed": false,
     "input": [
      "nt2_set & dnt_set"
     ],
     "language": "python",
     "metadata": {},
     "outputs": [
      {
       "metadata": {},
       "output_type": "pyout",
       "prompt_number": 7,
       "text": [
        "{'A', 'T'}"
       ]
      }
     ],
     "prompt_number": 7
    },
    {
     "cell_type": "heading",
     "level": 3,
     "metadata": {},
     "source": [
      "Kirjutame \u00fcmber funktsiooni **dna_check** kasutades hulka "
     ]
    },
    {
     "cell_type": "code",
     "collapsed": false,
     "input": [
      "DNAbases=set('ACGTacgt')\n",
      "RNAbases=set('ACGUacgu')"
     ],
     "language": "python",
     "metadata": {},
     "outputs": [],
     "prompt_number": 8
    },
    {
     "cell_type": "code",
     "collapsed": false,
     "input": [
      "def dna_check(nh_seq):\n",
      "    \"\"\" Function for checking DNA sequence composition\"\"\"\n",
      "    DNAbases=set('ACGTacgt')\n",
      "    return set(nh_seq) <= DNAbases"
     ],
     "language": "python",
     "metadata": {},
     "outputs": [],
     "prompt_number": 9
    },
    {
     "cell_type": "markdown",
     "metadata": {},
     "source": [
      "dna_check('agagggcgtagctagctgcagcttgcagcautc')"
     ]
    },
    {
     "cell_type": "heading",
     "level": 4,
     "metadata": {},
     "source": [
      "Lisame RNAflag'i "
     ]
    },
    {
     "cell_type": "code",
     "collapsed": false,
     "input": [
      "def nh_check(nh_seq, RNAflag = False):\n",
      "    \"\"\" Function for checking DNA sequence composition\"\"\"\n",
      "    DNAbases=set('ACGTacgt')\n",
      "    RNAbases=set('ACGUacgu')\n",
      "    return set(nh_seq) <= (DNAbases if RNAflag == False else RNAbases)"
     ],
     "language": "python",
     "metadata": {},
     "outputs": [],
     "prompt_number": 12
    },
    {
     "cell_type": "code",
     "collapsed": false,
     "input": [
      "rna='acuucagccguagcuagcucguuuagcuagcugagcuagcgacug'\n",
      "dna='ATCGTGGTAGCGCGGCGATCGATCGATGCTGACTTCGATGCAGTCT'"
     ],
     "language": "python",
     "metadata": {},
     "outputs": [],
     "prompt_number": 15
    },
    {
     "cell_type": "code",
     "collapsed": false,
     "input": [
      "nh_check(rna, True)"
     ],
     "language": "python",
     "metadata": {},
     "outputs": [
      {
       "metadata": {},
       "output_type": "pyout",
       "prompt_number": 16,
       "text": [
        "True"
       ]
      }
     ],
     "prompt_number": 16
    },
    {
     "cell_type": "heading",
     "level": 3,
     "metadata": {},
     "source": [
      "Ranges"
     ]
    },
    {
     "cell_type": "markdown",
     "metadata": {},
     "source": [
      "*jada kuni stop\u2019ni (stop v\u00e4lja arvatud)*\n",
      "\n",
      "**range(stop)** \n",
      "\n",
      "*jada start ja stop  vahele (stop v\u00e4lja arvatud)*\n",
      "\n",
      "**range(start, stop)**\n",
      "\n",
      "*jada start ja stop  vahele sammuga step*\n",
      "\n",
      "**range(start, stop, step)**"
     ]
    },
    {
     "cell_type": "code",
     "collapsed": false,
     "input": [
      "range(3)"
     ],
     "language": "python",
     "metadata": {},
     "outputs": [
      {
       "metadata": {},
       "output_type": "pyout",
       "prompt_number": 18,
       "text": [
        "range(0, 3)"
       ]
      }
     ],
     "prompt_number": 18
    },
    {
     "cell_type": "markdown",
     "metadata": {},
     "source": [
      "**range**  kui **set** "
     ]
    },
    {
     "cell_type": "code",
     "collapsed": false,
     "input": [
      "set(range(5))"
     ],
     "language": "python",
     "metadata": {},
     "outputs": [
      {
       "metadata": {},
       "output_type": "pyout",
       "prompt_number": 19,
       "text": [
        "{0, 1, 2, 3, 4}"
       ]
      }
     ],
     "prompt_number": 19
    },
    {
     "cell_type": "markdown",
     "metadata": {},
     "source": [
      "**range** kui  **list**"
     ]
    },
    {
     "cell_type": "code",
     "collapsed": false,
     "input": [
      "list(range(5))"
     ],
     "language": "python",
     "metadata": {},
     "outputs": [
      {
       "metadata": {},
       "output_type": "pyout",
       "prompt_number": 21,
       "text": [
        "[0, 1, 2, 3, 4]"
       ]
      }
     ],
     "prompt_number": 21
    },
    {
     "cell_type": "heading",
     "level": 3,
     "metadata": {},
     "source": [
      "Tuple"
     ]
    },
    {
     "cell_type": "markdown",
     "metadata": {},
     "source": [
      "**Tuple** on j\u00e4rjestatud hulk, mille elemente ei saa muuta. **Tuple** v\u00f5ib koosneda igat t\u00fc\u00fcpi elementidest. **Tuple** koostatakse komaga eraldatud elementidest mis on \u00fcmarsulgudes."
     ]
    },
    {
     "cell_type": "code",
     "collapsed": false,
     "input": [
      "# 2 elemendilenie tuple\n",
      "('AUG', 'UUU') "
     ],
     "language": "python",
     "metadata": {},
     "outputs": [
      {
       "metadata": {},
       "output_type": "pyout",
       "prompt_number": 1,
       "text": [
        "('AUG', 'UUU')"
       ]
      }
     ],
     "prompt_number": 1
    },
    {
     "cell_type": "code",
     "collapsed": false,
     "input": [
      "# 4'ja elemediline tuple\n",
      "tuple('TCAG')"
     ],
     "language": "python",
     "metadata": {},
     "outputs": [
      {
       "metadata": {},
       "output_type": "pyout",
       "prompt_number": 2,
       "text": [
        "('T', 'C', 'A', 'G')"
       ]
      }
     ],
     "prompt_number": 2
    },
    {
     "cell_type": "code",
     "collapsed": false,
     "input": [
      "# tuple vahemikust 5 kuni 10\n",
      "tuple(range(5,10)) "
     ],
     "language": "python",
     "metadata": {},
     "outputs": [
      {
       "metadata": {},
       "output_type": "pyout",
       "prompt_number": 3,
       "text": [
        "(5, 6, 7, 8, 9)"
       ]
      }
     ],
     "prompt_number": 3
    },
    {
     "cell_type": "code",
     "collapsed": false,
     "input": [
      "# m\u00f5lemal pool peab olema sama arv elemente\n",
      "DNABases, RNABases = 'TCAG', 'UCAG'\n",
      "DNABases"
     ],
     "language": "python",
     "metadata": {},
     "outputs": [
      {
       "metadata": {},
       "output_type": "pyout",
       "prompt_number": 7,
       "text": [
        "'TCAG'"
       ]
      }
     ],
     "prompt_number": 7
    },
    {
     "cell_type": "code",
     "collapsed": false,
     "input": [
      "vasak = 'VASAK' \n",
      "parem = 'PAREM'\n",
      "\n",
      "vasak"
     ],
     "language": "python",
     "metadata": {},
     "outputs": [
      {
       "metadata": {},
       "output_type": "pyout",
       "prompt_number": 10,
       "text": [
        "'VASAK'"
       ]
      }
     ],
     "prompt_number": 10
    },
    {
     "cell_type": "code",
     "collapsed": false,
     "input": [
      "# muutujate ringip\u00f6\u00f6ramine \u00f5nnestub ilma vaheastmeteta, kuna enne omistamist pakitakse muutujad tuple'ks\n",
      "vasak, parem = parem, vasak\n",
      "vasak"
     ],
     "language": "python",
     "metadata": {},
     "outputs": [
      {
       "metadata": {},
       "output_type": "pyout",
       "prompt_number": 11,
       "text": [
        "'PAREM'"
       ]
      }
     ],
     "prompt_number": 11
    },
    {
     "cell_type": "heading",
     "level": 3,
     "metadata": {},
     "source": [
      "List"
     ]
    },
    {
     "cell_type": "markdown",
     "metadata": {},
     "source": [
      "Lihtsaim viis **listi** luua on kirjutada komaga eraldatud liikmed kantsulgudesse."
     ]
    },
    {
     "cell_type": "code",
     "collapsed": false,
     "input": [
      "list1=[11,2,35,4,4,0.5]\n",
      "list2 = ['\u00f5un','pirn']\n",
      "\n",
      "list2"
     ],
     "language": "python",
     "metadata": {},
     "outputs": [
      {
       "metadata": {},
       "output_type": "pyout",
       "prompt_number": 23,
       "text": [
        "['\u00f5un', 'pirn']"
       ]
      }
     ],
     "prompt_number": 23
    },
    {
     "cell_type": "heading",
     "level": 4,
     "metadata": {},
     "source": [
      "Listi modifitseerivad .meetodid"
     ]
    },
    {
     "cell_type": "code",
     "collapsed": false,
     "input": [
      "# liikme lisamine  list.append(x)  \n",
      "list2.append('viinamari')\n",
      "list2"
     ],
     "language": "python",
     "metadata": {},
     "outputs": [
      {
       "metadata": {},
       "output_type": "pyout",
       "prompt_number": 26,
       "text": [
        "['\u00f5un', 'pirn', 'viinamari']"
       ]
      }
     ],
     "prompt_number": 26
    },
    {
     "cell_type": "code",
     "collapsed": false,
     "input": [
      "# liikmete lisamine  list.extend(x) \n",
      "list2.extend(list1)\n",
      "list2"
     ],
     "language": "python",
     "metadata": {},
     "outputs": [
      {
       "metadata": {},
       "output_type": "pyout",
       "prompt_number": 27,
       "text": [
        "['\u00f5un', 'pirn', 'viinamari', 11, 2, 35, 4, 4, 0.5]"
       ]
      }
     ],
     "prompt_number": 27
    },
    {
     "cell_type": "markdown",
     "metadata": {},
     "source": [
      "Uuri mida teevda k\u00e4sud **`.insert(x), .remove(x), .pop([i]), .reverse(), .sort()`**"
     ]
    },
    {
     "cell_type": "code",
     "collapsed": false,
     "input": [
      "# kood"
     ],
     "language": "python",
     "metadata": {},
     "outputs": [],
     "prompt_number": 15
    },
    {
     "cell_type": "heading",
     "level": 4,
     "metadata": {},
     "source": [
      "Listi modifitseerimine omistamiste teel "
     ]
    },
    {
     "cell_type": "code",
     "collapsed": false,
     "input": [
      "# teine element list2's\n",
      "list2[1]"
     ],
     "language": "python",
     "metadata": {},
     "outputs": [
      {
       "metadata": {},
       "output_type": "pyout",
       "prompt_number": 16,
       "text": [
        "'pirn'"
       ]
      }
     ],
     "prompt_number": 16
    },
    {
     "cell_type": "code",
     "collapsed": false,
     "input": [
      "list2[1]='ploom'\n",
      "list2"
     ],
     "language": "python",
     "metadata": {},
     "outputs": [
      {
       "metadata": {},
       "output_type": "pyout",
       "prompt_number": 18,
       "text": [
        "['\u00f5un', 'ploom', 'viinamari', 11, 2, 35, 4, 4, 0.5]"
       ]
      }
     ],
     "prompt_number": 18
    },
    {
     "cell_type": "code",
     "collapsed": false,
     "input": [
      "list2 = ['\u00f5un','pirn','viinamari']\n",
      "list4=['siil', 'karu', 'rebane']\n",
      "list2[0:1] = list4[0:2]\n",
      "list2"
     ],
     "language": "python",
     "metadata": {},
     "outputs": [
      {
       "metadata": {},
       "output_type": "pyout",
       "prompt_number": 30,
       "text": [
        "['siil', 'karu', 'pirn', 'viinamari']"
       ]
      }
     ],
     "prompt_number": 30
    },
    {
     "cell_type": "code",
     "collapsed": false,
     "input": [
      "list2 = ['\u00f5un','pirn','viinamari']\n",
      "list4=['siil', 'karu', 'rebane']\n",
      "list2[1:1] = list4 \n",
      "list2"
     ],
     "language": "python",
     "metadata": {},
     "outputs": [
      {
       "metadata": {},
       "output_type": "pyout",
       "prompt_number": 31,
       "text": [
        "['\u00f5un', 'siil', 'karu', 'rebane', 'pirn', 'viinamari']"
       ]
      }
     ],
     "prompt_number": 31
    },
    {
     "cell_type": "code",
     "collapsed": false,
     "input": [
      "list2 = ['\u00f5un','pirn','viinamari']\n",
      "list2[len(list2):len(list2)]= ['ROCK']\n",
      "list2"
     ],
     "language": "python",
     "metadata": {},
     "outputs": [
      {
       "metadata": {},
       "output_type": "pyout",
       "prompt_number": 33,
       "text": [
        "['\u00f5un', 'pirn', 'viinamari', 'ROCK']"
       ]
      }
     ],
     "prompt_number": 33
    },
    {
     "cell_type": "heading",
     "level": 4,
     "metadata": {},
     "source": [
      "Listist liikme(te) kustutamine - Delete"
     ]
    },
    {
     "cell_type": "code",
     "collapsed": false,
     "input": [
      "list2 = ['\u00f5un','pirn','viinamari']\n",
      "del list2[1]\n",
      "list2"
     ],
     "language": "python",
     "metadata": {},
     "outputs": [
      {
       "metadata": {},
       "output_type": "pyout",
       "prompt_number": 34,
       "text": [
        "['\u00f5un', 'viinamari']"
       ]
      }
     ],
     "prompt_number": 34
    },
    {
     "cell_type": "code",
     "collapsed": false,
     "input": [
      "list5=['\u00f5un','pirn','viinamari', 'siil', 'karu', 'rebane']\n",
      "del list5[3:5]\n",
      "list5"
     ],
     "language": "python",
     "metadata": {},
     "outputs": [
      {
       "metadata": {},
       "output_type": "pyout",
       "prompt_number": 37,
       "text": [
        "['\u00f5un', 'pirn', 'viinamari', 'rebane']"
       ]
      }
     ],
     "prompt_number": 37
    },
    {
     "cell_type": "code",
     "collapsed": false,
     "input": [
      "list5=['\u00f5un','pirn','viinamari', 'siil', 'karu', 'rebane']\n",
      "del list5[1:5:2]\n",
      "list5"
     ],
     "language": "python",
     "metadata": {},
     "outputs": [
      {
       "metadata": {},
       "output_type": "pyout",
       "prompt_number": 38,
       "text": [
        "['\u00f5un', 'viinamari', 'karu', 'rebane']"
       ]
      }
     ],
     "prompt_number": 38
    },
    {
     "cell_type": "heading",
     "level": 3,
     "metadata": {},
     "source": [
      "Dictionary"
     ]
    },
    {
     "cell_type": "markdown",
     "metadata": {},
     "source": [
      "**Dictionary** e. s\u00f5naraamat koosneb key:value paaridest. Key saab olla kas number v\u00f5i string.V\u00e4lue v\u00f5ib olla number, string, tuple, list etc..."
     ]
    },
    {
     "cell_type": "code",
     "collapsed": false,
     "input": [
      "# s\u00f6\u00f6giseen\n",
      "seened = {\n",
      "    'pilvik':'kupata',\n",
      "    'kukeseen':'prae',\n",
      "    'valge k\u00e4rbseseen': 'RIP'\n",
      "}"
     ],
     "language": "python",
     "metadata": {},
     "outputs": [],
     "prompt_number": 45
    },
    {
     "cell_type": "markdown",
     "metadata": {},
     "source": [
      "**dictionary** poole p\u00f6\u00f6rdumine k\u00e4ib \u00fcle v\u00f5temete e. *key*"
     ]
    },
    {
     "cell_type": "code",
     "collapsed": false,
     "input": [
      "seened['pilvik']"
     ],
     "language": "python",
     "metadata": {},
     "outputs": [
      {
       "metadata": {},
       "output_type": "pyout",
       "prompt_number": 50,
       "text": [
        "'kupata'"
       ]
      }
     ],
     "prompt_number": 50
    },
    {
     "cell_type": "code",
     "collapsed": false,
     "input": [
      "# liikmete paari saab lisada lihtsalt    d[key]=value\n",
      "seened['kivipuravik'] = 'prae'"
     ],
     "language": "python",
     "metadata": {},
     "outputs": [],
     "prompt_number": 61
    },
    {
     "cell_type": "code",
     "collapsed": false,
     "input": [
      "seened"
     ],
     "language": "python",
     "metadata": {},
     "outputs": [
      {
       "metadata": {},
       "output_type": "pyout",
       "prompt_number": 62,
       "text": [
        "{'valge k\u00e4rbseseen': 'RIP',\n",
        " 'kukeseen': 'prae',\n",
        " 'pilvik': 'kupata',\n",
        " 'kivipuravik': 'prae'}"
       ]
      }
     ],
     "prompt_number": 62
    },
    {
     "cell_type": "code",
     "collapsed": false,
     "input": [
      "# saab kontrollida liikmete olemasolu *key* j\u00e4rgi    ***not in*** sobib ka \n",
      "'pilvik' in seened"
     ],
     "language": "python",
     "metadata": {},
     "outputs": [
      {
       "metadata": {},
       "output_type": "pyout",
       "prompt_number": 63,
       "text": [
        "True"
       ]
      }
     ],
     "prompt_number": 63
    },
    {
     "cell_type": "code",
     "collapsed": false,
     "input": [
      "# max ja min \n",
      "max(seened)"
     ],
     "language": "python",
     "metadata": {},
     "outputs": [
      {
       "metadata": {},
       "output_type": "pyout",
       "prompt_number": 58,
       "text": [
        "'valge k\u00e4rbseseen'"
       ]
      }
     ],
     "prompt_number": 58
    },
    {
     "cell_type": "markdown",
     "metadata": {},
     "source": [
      "Kui *Key*'le vastav *value* on number, siis saab  v\u00e4\u00e4rtusega teaostada aritmeetilisi operatsioone: \n",
      "`+=, *=, *=, /=, etc ...`"
     ]
    },
    {
     "cell_type": "code",
     "collapsed": false,
     "input": [
      "linnud_ylelennul = {\n",
      "    # vaatlus\n",
      "    'siisike': 25,\n",
      "    'valge toonekurg':2,\n",
      "    'kynnivares': 36\n",
      "}\n",
      "linnud_ylelennul['siisike'] += 6\n",
      "linnud_ylelennul['siisike']"
     ],
     "language": "python",
     "metadata": {},
     "outputs": [
      {
       "metadata": {},
       "output_type": "pyout",
       "prompt_number": 67,
       "text": [
        "31"
       ]
      }
     ],
     "prompt_number": 67
    },
    {
     "cell_type": "code",
     "collapsed": false,
     "input": [
      "# RNA codon table\n",
      "# example\n",
      "RNA_codon_table = {\n",
      "    'CUU': 'Leu', 'UAG': '---', 'ACA': 'Thr', 'AAA': 'Lys', 'AUC': 'Ile', 'AAC': 'Asn', 'AUA': 'Ile', \n",
      "    'AGG': 'Arg', 'CCU': 'Pro', 'ACU': 'Thr', 'AGC': 'Ser', 'AAG': 'Lys', 'AGA': 'Arg', 'CAU': 'His', \n",
      "    'AAU': 'Asn', 'AUU': 'Ile', 'CUG': 'Leu', 'CUA': 'Leu', 'CUC': 'Leu', 'CAC': 'His', 'UGG': 'Trp', \n",
      "    'CAA': 'Gln', 'AGU': 'Ser', 'CCA': 'Pro', 'CCG': 'Pro', 'CCC': 'Pro', 'UAU': 'Tyr', 'GGU': 'Gly', \n",
      "    'UGU': 'Cys', 'CGA': 'Arg', 'CAG': 'Gln', 'UCU': 'Ser', 'GAU': 'Asp', 'CGG': 'Arg', 'UUU': 'Phe', \n",
      "    'UGC': 'Cys', 'GGG': 'Gly', 'UGA': '---', 'GGA': 'Gly', 'UAA': '---', 'ACG': 'Thr', 'UAC': 'Tyr', \n",
      "    'UUC': 'Phe', 'UCG': 'Ser', 'UUA': 'Leu', 'UUG': 'Leu', 'UCC': 'Ser', 'ACC': 'Thr', 'UCA': 'Ser', \n",
      "    'GCA': 'Ala', 'GUA': 'Val', 'GCC': 'Ala', 'GUC': 'Val', 'GGC': 'Gly', 'GCG': 'Ala', 'GUG': 'Val', \n",
      "    'GAG': 'Glu', 'GUU': 'Val', 'GCU': 'Ala', 'GAC': 'Asp', 'CGU': 'Arg', 'GAA': 'Glu', 'AUG': 'Met', \n",
      "    'CGC': 'Arg'\n",
      "}"
     ],
     "language": "python",
     "metadata": {},
     "outputs": [],
     "prompt_number": 53
    },
    {
     "cell_type": "code",
     "collapsed": false,
     "input": [],
     "language": "python",
     "metadata": {},
     "outputs": []
    },
    {
     "cell_type": "code",
     "collapsed": false,
     "input": [
      "# pretty-pritn e. pprint importimine nime alla pp\n",
      "from pprint import pprint as pp\n",
      "pp(RNA_codon_table)"
     ],
     "language": "python",
     "metadata": {},
     "outputs": [
      {
       "output_type": "stream",
       "stream": "stdout",
       "text": [
        "{'AAA': 'Lys',\n",
        " 'AAC': 'Asn',\n",
        " 'AAG': 'Lys',\n",
        " 'AAU': 'Asn',\n",
        " 'ACA': 'Thr',\n",
        " 'ACC': 'Thr',\n",
        " 'ACG': 'Thr',\n",
        " 'ACU': 'Thr',\n",
        " 'AGA': 'Arg',\n",
        " 'AGC': 'Ser',\n",
        " 'AGG': 'Arg',\n",
        " 'AGU': 'Ser',\n",
        " 'AUA': 'Ile',\n",
        " 'AUC': 'Ile',\n",
        " 'AUG': 'Met',\n",
        " 'AUU': 'Ile',\n",
        " 'CAA': 'Gln',\n",
        " 'CAC': 'His',\n",
        " 'CAG': 'Gln',\n",
        " 'CAU': 'His',\n",
        " 'CCA': 'Pro',\n",
        " 'CCC': 'Pro',\n",
        " 'CCG': 'Pro',\n",
        " 'CCU': 'Pro',\n",
        " 'CGA': 'Arg',\n",
        " 'CGC': 'Arg',\n",
        " 'CGG': 'Arg',\n",
        " 'CGU': 'Arg',\n",
        " 'CUA': 'Leu',\n",
        " 'CUC': 'Leu',\n",
        " 'CUG': 'Leu',\n",
        " 'CUU': 'Leu',\n",
        " 'GAA': 'Glu',\n",
        " 'GAC': 'Asp',\n",
        " 'GAG': 'Glu',\n",
        " 'GAU': 'Asp',\n",
        " 'GCA': 'Ala',\n",
        " 'GCC': 'Ala',\n",
        " 'GCG': 'Ala',\n",
        " 'GCU': 'Ala',\n",
        " 'GGA': 'Gly',\n",
        " 'GGC': 'Gly',\n",
        " 'GGG': 'Gly',\n",
        " 'GGU': 'Gly',\n",
        " 'GUA': 'Val',\n",
        " 'GUC': 'Val',\n",
        " 'GUG': 'Val',\n",
        " 'GUU': 'Val',\n",
        " 'UAA': '---',\n",
        " 'UAC': 'Tyr',\n",
        " 'UAG': '---',\n",
        " 'UAU': 'Tyr',\n",
        " 'UCA': 'Ser',\n",
        " 'UCC': 'Ser',\n",
        " 'UCG': 'Ser',\n",
        " 'UCU': 'Ser',\n",
        " 'UGA': '---',\n",
        " 'UGC': 'Cys',\n",
        " 'UGG': 'Trp',\n",
        " 'UGU': 'Cys',\n",
        " 'UUA': 'Leu',\n",
        " 'UUC': 'Phe',\n",
        " 'UUG': 'Leu',\n",
        " 'UUU': 'Phe'}\n"
       ]
      }
     ],
     "prompt_number": 54
    },
    {
     "cell_type": "code",
     "collapsed": false,
     "input": [
      "def translate_RNA_codon(codon): \n",
      "    return RNA_codon_table[codon]"
     ],
     "language": "python",
     "metadata": {},
     "outputs": [],
     "prompt_number": 51
    },
    {
     "cell_type": "code",
     "collapsed": false,
     "input": [
      "translate_RNA_codon('AUG')"
     ],
     "language": "python",
     "metadata": {},
     "outputs": [
      {
       "metadata": {},
       "output_type": "pyout",
       "prompt_number": 55,
       "text": [
        "'Met'"
       ]
      }
     ],
     "prompt_number": 55
    }
   ],
   "metadata": {}
  }
 ]
}